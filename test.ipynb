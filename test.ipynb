{
 "cells": [
  {
   "attachments": {},
   "cell_type": "markdown",
   "metadata": {},
   "source": [
    "# Code for visualization"
   ]
  },
  {
   "cell_type": "code",
   "execution_count": 1,
   "metadata": {},
   "outputs": [
    {
     "data": {
      "text/plain": [
       "(0.0, 9.0)"
      ]
     },
     "execution_count": 1,
     "metadata": {},
     "output_type": "execute_result"
    },
    {
     "data": {
      "image/png": "[encoded data removed]",
      "text/plain": [
       "<Figure size 1800x1200 with 1 Axes>"
      ]
     },
     "metadata": {
      "needs_background": "light"
     },
     "output_type": "display_data"
    }
   ],
   "source": [
    "import tenpy \n",
    "from model_setup import *\n",
    "import matplotlib.pyplot as plt\n",
    "\n",
    "fig = plt.figure(dpi=300)\n",
    "ax = fig.gca()\n",
    "\n",
    "M = ribbon4('dummy')\n",
    "\n",
    "# print(np.shape(M.lat.order))\n",
    "\n",
    "M.lat.plot_sites(ax)\n",
    "M.lat.plot_coupling(ax)\n",
    "\n",
    "ax.set_aspect(1)\n",
    "ax.set_xlim([0,9])"
   ]
  },
  {
   "attachments": {},
   "cell_type": "markdown",
   "metadata": {},
   "source": [
    "# Draft code for running DMRG"
   ]
  },
  {
   "cell_type": "code",
   "execution_count": 2,
   "metadata": {},
   "outputs": [
    {
     "name": "stdout",
     "output_type": "stream",
     "text": [
      "Is MPO hermitian?  True\n",
      "WARNING : /Users/lehoanganh/opt/anaconda3/lib/python3.9/site-packages/tenpy/tools/params.py:233: UserWarning: unused option ['save_every_x_seconds'] for config GroundStateSearch\n",
      "\n",
      "  warnings.warn(msg.format(keys=sorted(unused), name=self.name))\n",
      "\n",
      "WARNING : /Users/lehoanganh/opt/anaconda3/lib/python3.9/site-packages/tenpy/tools/params.py:233: UserWarning: unused option ['type'] for config model_params\n",
      "\n",
      "  warnings.warn(msg.format(keys=sorted(unused), name=self.name))\n",
      "\n"
     ]
    }
   ],
   "source": [
    "import tenpy \n",
    "from model_setup import *\n",
    "import h5py\n",
    "\n",
    "# <---------- 1) Generate initial state ---------->\n",
    "M = ribbon4('clean')\n",
    "print(\"Is MPO hermitian? \", M.H_MPO.is_hermitian())\n",
    "\n",
    "# Geometry of ribbon: Lx = Lx+1, Ly = Ly*2\n",
    "Lx = 31\n",
    "Ly = 2\n",
    "dope = 0\n",
    "Nsites = int((Lx-1)*Ly*2 + Ly)\n",
    "\n",
    "\n",
    "if dope == 0:\n",
    "    prod_state = ['up','down'] * (Nsites//2)\n",
    "else:\n",
    "    prod_state = []\n",
    "    for i in range(Nsites-dope):\n",
    "        prod_state.append('up') if i%2 == 0 else prod_state.append('down')\n",
    "    for i in range(dope):\n",
    "        prod_state.append('full')\n",
    "\n",
    "\n",
    "psi = MPS.from_product_state(M.lat.mps_sites(), prod_state)\n",
    "data = {\"psi\": psi}\n",
    "with h5py.File(\"mps_initial_L\"+str(int(Lx-1))+\"W\"+str(int(Ly*2))+\"_dope\"+str(dope)+\".h5\", 'w') as f:\n",
    "    tenpy.tools.hdf5_io.save_to_hdf5(f, data)\n",
    "\n",
    "\n",
    "# <---------- 2) Run DMRG ---------->\n",
    "# Set up parameters for simulation\n",
    "simul_para = {'simulation_class': GroundStateSearch,\n",
    "\n",
    "'output_filename': 'dmrg_L'+str(int(Lx-1))+'W'+str(int(Ly*2))+'_dope'+str(dope)+'_clean.h5',\n",
    "'log_params': {'to_file': 'INFO', 'to_stdout': 'WARN'},\n",
    "'save_every_x_seconds': 1000,\n",
    "'save_resume_data': True,\n",
    "'save_psi': True,  # don't save full wave function - less disk space, but can't resume/redo measurements!\n",
    "\n",
    "\n",
    "'model_class':  ribbon4,\n",
    "'model_params': {'type':'disorder'},\n",
    "\n",
    "# Initial state setup\n",
    "'initial_state_builder_class': InitialStateBuilder,\n",
    "'initial_state_params':{'method': 'from_file','filename': 'mps_initial_L'+str(int(Lx-1))+'W'+str(int(Ly*2))+'_dope'+str(dope)+'.h5'},\n",
    "\n",
    "# Setup DMRG parameters\n",
    "'algorithm_class': TwoSiteDMRGEngine,\n",
    "'algorithm_params':{\n",
    "\t\t\t\t\t'mixer': True, \n",
    "\t\t\t\t\t'mixer_params': {'amplitude': 1.e-7, 'decay': 1.2, 'disable_after': 10},\n",
    "\t\t\t\t\t'trunc_params': {'svd_min': 1.e-6},\n",
    "\t\t\t\t\t'lanczos_params': {'N_min': 5, 'N_max': 10, 'reortho':True},\n",
    "\t\t\t\t\t'chi_list': {0: 200, 1: 400, 2: 800, 3: 1000, 8: 1200, 10: 1300, 12: 1400, 14: 1500, 15: 1600},\n",
    "\t\t\t\t\t'max_sweeps': 1},\n",
    "\n",
    "}\n",
    "\n",
    "\n",
    "\n",
    "# Run the simulation: Comment out \"run_simulation\" if we continue the DMRG run\n",
    "#  by \"resume_from_checkpoint\"\n",
    "\n",
    "tenpy.run_simulation(**simul_para)\n",
    "# tenpy.resume_from_checkpoint(filename='dmrg_L'+str(int(Lx-1))+'W'+str(int(Ly*2))+'_dope'+str(dope)+'_clean.h5')\n",
    "\n",
    "\n",
    "\n",
    "# <---------- 3) Extract important quantities ---------->\n",
    "\n",
    "\n",
    "results = tenpy.tools.hdf5_io.load('dmrg_L'+str(int(Lx-1))+'W'+str(int(Ly*2))+'_dope'+str(dope)+'_clean.h5')\n",
    "psi_test = results['psi']\n",
    "psi_test.canonical_form()\n",
    "\n",
    "sz = psi_test.expectation_value('Sz')\n",
    "np.savetxt('sz_L'+str(int(Lx-1))+'W'+str(int(Ly*2))+'_dope'+str(dope)+'_clean.txt', sz)\n",
    "\n",
    "\n",
    "ee = psi_test.entanglement_entropy()\n",
    "np.savetxt('ee_L'+str(int(Lx-1))+'W'+str(int(Ly*2))+'_dope'+str(dope)+'_clean.txt', ee)\n",
    "\n",
    "ntot = psi_test.expectation_value('Ntot')\n",
    "np.savetxt('ntot_L'+str(int(Lx-1))+'W'+str(int(Ly*2))+'_dope'+str(dope)+'_clean.txt' ,ntot)\n"
   ]
  },
  {
   "cell_type": "code",
   "execution_count": 2,
   "metadata": {},
   "outputs": [
    {
     "name": "stdout",
     "output_type": "stream",
     "text": [
      "Disorder terms are added!\n"
     ]
    }
   ],
   "source": [
    "M = ribbon4()"
   ]
  },
  {
   "cell_type": "code",
   "execution_count": 2,
   "metadata": {},
   "outputs": [
    {
     "data": {
      "text/plain": [
       "False"
      ]
     },
     "execution_count": 2,
     "metadata": {},
     "output_type": "execute_result"
    }
   ],
   "source": [
    "Lx = 121\n",
    "Ly = 2\n",
    "U = 1\n",
    "t = 1\n",
    "gamma = 2\n",
    "path = 'sites_impurity_L'+str(int(Lx-1))+'W'+str(int(Ly*2))+'_gamma'+str(gamma)+'.txt'\n",
    "\n",
    "\n",
    "from os.path import exists\n",
    "\n",
    "exists(path)"
   ]
  }
 ],
 "metadata": {
  "kernelspec": {
   "display_name": "base",
   "language": "python",
   "name": "python3"
  },
  "language_info": {
   "codemirror_mode": {
    "name": "ipython",
    "version": 3
   },
   "file_extension": ".py",
   "mimetype": "text/x-python",
   "name": "python",
   "nbconvert_exporter": "python",
   "pygments_lexer": "ipython3",
   "version": "3.9.7"
  },
  "orig_nbformat": 4,
  "vscode": {
   "interpreter": {
    "hash": "8a97ea607f164b174a9030946ef42297b17bab2cc56316e4928da9d863325e8b"
   }
  }
 },
 "nbformat": 4,
 "nbformat_minor": 2
}
